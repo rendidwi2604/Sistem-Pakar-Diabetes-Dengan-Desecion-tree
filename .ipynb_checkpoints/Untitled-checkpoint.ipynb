{
 "cells": [
  {
   "cell_type": "code",
   "execution_count": 5,
   "id": "183d15e9-4bbb-4565-bbdd-df6db72a7b04",
   "metadata": {},
   "outputs": [
    {
     "name": "stdout",
     "output_type": "stream",
     "text": [
      "                             Target Genetic Markers Autoantibodies  \\\n",
      "0          Steroid-Induced Diabetes        Positive       Negative   \n",
      "1  Neonatal Diabetes Mellitus (NDM)        Positive       Negative   \n",
      "2                       Prediabetic        Positive       Positive   \n",
      "3                   Type 1 Diabetes        Negative       Positive   \n",
      "4                  Wolfram Syndrome        Negative       Negative   \n",
      "\n",
      "  Family History Environmental Factors  Insulin Levels  Age  BMI  \\\n",
      "0             No               Present              40   44   38   \n",
      "1             No               Present              13    1   17   \n",
      "2            Yes               Present              27   36   24   \n",
      "3             No               Present               8    7   16   \n",
      "4            Yes               Present              17   10   17   \n",
      "\n",
      "  Physical Activity Dietary Habits  ...  Pulmonary Function  \\\n",
      "0              High        Healthy  ...                  76   \n",
      "1              High        Healthy  ...                  60   \n",
      "2              High      Unhealthy  ...                  80   \n",
      "3               Low      Unhealthy  ...                  89   \n",
      "4              High        Healthy  ...                  41   \n",
      "\n",
      "   Cystic Fibrosis Diagnosis  Steroid Use History  Genetic Testing  \\\n",
      "0                         No                   No         Positive   \n",
      "1                        Yes                   No         Negative   \n",
      "2                        Yes                   No         Negative   \n",
      "3                        Yes                   No         Positive   \n",
      "4                         No                   No         Positive   \n",
      "\n",
      "  Neurological Assessments Liver Function Tests Digestive Enzyme Levels  \\\n",
      "0                        3               Normal                      56   \n",
      "1                        1               Normal                      28   \n",
      "2                        1             Abnormal                      55   \n",
      "3                        2             Abnormal                      60   \n",
      "4                        1               Normal                      24   \n",
      "\n",
      "        Urine Test Birth Weight Early Onset Symptoms  \n",
      "0  Ketones Present         2629                   No  \n",
      "1  Glucose Present         1881                  Yes  \n",
      "2  Ketones Present         3622                  Yes  \n",
      "3  Ketones Present         3542                   No  \n",
      "4  Protein Present         1770                   No  \n",
      "\n",
      "[5 rows x 34 columns]\n"
     ]
    }
   ],
   "source": [
    "import pandas as pd\n",
    "\n",
    "df = pd.read_csv('diabetes_dataset.csv')\n",
    "print(df.head())           # Lihat 5 baris pertama\n",
    "print(df.columns)          # Cek nama kolom\n",
    "print(df.info())           # Lihat tipe data dan null"
   ]
  },
  {
   "cell_type": "code",
   "execution_count": null,
   "id": "4b216ca6-3267-4abd-8e4c-0814516a22b5",
   "metadata": {},
   "outputs": [],
   "source": []
  }
 ],
 "metadata": {
  "kernelspec": {
   "display_name": "Python [conda env:base] *",
   "language": "python",
   "name": "conda-base-py"
  },
  "language_info": {
   "codemirror_mode": {
    "name": "ipython",
    "version": 3
   },
   "file_extension": ".py",
   "mimetype": "text/x-python",
   "name": "python",
   "nbconvert_exporter": "python",
   "pygments_lexer": "ipython3",
   "version": "3.12.7"
  }
 },
 "nbformat": 4,
 "nbformat_minor": 5
}
